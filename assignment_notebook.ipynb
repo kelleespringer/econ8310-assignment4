{
  "cells": [
    {
      "cell_type": "markdown",
      "id": "8e649671-64ae-4692-a381-33974ffa666a",
      "metadata": {
        "id": "8e649671-64ae-4692-a381-33974ffa666a"
      },
      "source": [
        "# Assignment 4\n",
        "## Econ 8310 - Business Forecasting\n",
        "\n",
        "This assignment will make use of the bayesian statistical models covered in Lessons 10 to 12.\n",
        "\n",
        "A/B Testing is a critical concept in data science, and for many companies one of the most relevant applications of data-driven decision-making. In order to improve product offerings, marketing campaigns, user interfaces, and many other user-facing interactions, scientists and engineers create experiments to determine the efficacy of proposed changes. Users are then randomly assigned to either the treatment or control group, and their behavior is recorded.\n",
        "If the changes that the treatment group is exposed to can be measured to have a benefit in the metric of interest, then those changes are scaled up and rolled out to across all interactions.\n",
        "Below is a short video detailing the A/B Testing process, in case you want to learn a bit more:\n",
        "[https://youtu.be/DUNk4GPZ9bw](https://youtu.be/DUNk4GPZ9bw)\n",
        "\n",
        "For this assignment, you will use an A/B test data set, which was pulled from the Kaggle website (https://www.kaggle.com/datasets/yufengsui/mobile-games-ab-testing). I have added the data from the page into Codio for you. It can be found in the cookie_cats.csv file in the file tree. It can also be found at [https://github.com/dustywhite7/Econ8310/raw/master/AssignmentData/cookie_cats.csv](https://github.com/dustywhite7/Econ8310/raw/master/AssignmentData/cookie_cats.csv)\n",
        "\n",
        "The variables are defined as follows:\n",
        "\n",
        "| Variable Name  | Definition |\n",
        "|----------------|----|\n",
        "| userid         | A unique number that identifies each player  |\n",
        "| version        | Whether the player was put in the control group (gate_30 - a gate at level 30) or the group with the moved gate (gate_40 - a gate at level 40) |\n",
        "| sum_gamerounds | The number of game rounds played by the player during the first 14 days after install.  |\n",
        "| retention1     | Did the player come back and play 1 day after installing?     |\n",
        "| retention7     | Did the player come back and play 7 days after installing?    |               "
      ]
    },
    {
      "cell_type": "markdown",
      "id": "a7d4d9ba-5349-4ae6-833b-8cea780510d2",
      "metadata": {
        "id": "a7d4d9ba-5349-4ae6-833b-8cea780510d2"
      },
      "source": [
        "### The questions\n",
        "\n",
        "You will be asked to answer the following questions in a small quiz on Canvas:\n",
        "1. What was the effect of moving the gate from level 30 to level 40 on 1-day retention rates?\n",
        "2. What was the effect of moving the gate from level 30 to level 40 on 7-day retention rates?\n",
        "3. What was the biggest challenge for you in completing this assignment?\n",
        "\n",
        "You will also be asked to submit a URL to your forked GitHub repository containing your code used to answer these questions."
      ]
    },
    {
      "cell_type": "code",
      "execution_count": 4,
      "id": "bcd35387-b05b-4cb2-9b1f-e1d2c0e43588",
      "metadata": {
        "id": "bcd35387-b05b-4cb2-9b1f-e1d2c0e43588",
        "outputId": "651da134-7cdd-4d0d-dc64-fc153b08b179",
        "colab": {
          "base_uri": "https://localhost:8080/"
        }
      },
      "outputs": [
        {
          "output_type": "stream",
          "name": "stdout",
          "text": [
            "   userid  version  sum_gamerounds  retention_1  retention_7\n",
            "0     116  gate_30               3        False        False\n",
            "1     337  gate_30              38         True        False\n",
            "2     377  gate_40             165         True        False\n",
            "3     483  gate_40               1        False        False\n",
            "4     488  gate_40             179         True         True\n",
            "version\n",
            "gate_40    45489\n",
            "gate_30    44700\n",
            "Name: count, dtype: int64\n",
            "             userid  sum_gamerounds\n",
            "count  9.018900e+04    90189.000000\n",
            "mean   4.998412e+06       51.872457\n",
            "std    2.883286e+06      195.050858\n",
            "min    1.160000e+02        0.000000\n",
            "25%    2.512230e+06        5.000000\n",
            "50%    4.995815e+06       16.000000\n",
            "75%    7.496452e+06       51.000000\n",
            "max    9.999861e+06    49854.000000\n",
            "         retention_1  retention_7\n",
            "version                          \n",
            "gate_30     0.448188     0.190201\n",
            "gate_40     0.442283     0.182000\n"
          ]
        }
      ],
      "source": [
        "import pandas as pd\n",
        "\n",
        "# Load the dataset\n",
        "df = pd.read_csv(\"https://github.com/dustywhite7/Econ8310/raw/master/AssignmentData/cookie_cats.csv\")\n",
        "\n",
        "# Quick look\n",
        "print(df.head())\n",
        "print(df['version'].value_counts())\n",
        "print(df.describe())\n",
        "\n",
        "# Group by version and calculate mean retention\n",
        "retention_summary = df.groupby('version')[['retention_1', 'retention_7']].mean()\n",
        "print(retention_summary)\n"
      ]
    },
    {
      "cell_type": "code",
      "source": [
        "import numpy as np\n",
        "import matplotlib.pyplot as plt\n",
        "from scipy.stats import beta\n",
        "\n",
        "# Count successes and trials for each group\n",
        "def get_counts(df, group, col):\n",
        "    group_df = df[df['version'] == group]\n",
        "    successes = group_df[col].sum()\n",
        "    trials = group_df.shape[0]\n",
        "    return successes, trials\n",
        "\n",
        "# 1-day retention\n",
        "succ_30, n_30 = get_counts(df, 'gate_30', 'retention_1')\n",
        "succ_40, n_40 = get_counts(df, 'gate_40', 'retention_1')\n",
        "\n",
        "# Posterior distributions\n",
        "x = np.linspace(0, 0.2, 1000)\n",
        "posterior_30 = beta(succ_30 + 1, n_30 - succ_30 + 1)\n",
        "posterior_40 = beta(succ_40 + 1, n_40 - succ_40 + 1)\n",
        "\n",
        "plt.figure(figsize=(10,5))\n",
        "plt.plot(x, posterior_30.pdf(x), label='gate_30')\n",
        "plt.plot(x, posterior_40.pdf(x), label='gate_40')\n",
        "plt.legend()\n",
        "plt.title('Posterior distributions for 1-day retention')\n",
        "plt.xlabel('Retention Rate')\n",
        "plt.ylabel('Density')\n",
        "plt.show()\n",
        "\n",
        "\n",
        "samples_30 = posterior_30.rvs(100000)\n",
        "samples_40 = posterior_40.rvs(100000)\n",
        "\n",
        "prob_40_better = (samples_40 > samples_30).mean()\n",
        "print(f\"Probability that gate_40 is better (1-day): {prob_40_better:.3f}\")\n"
      ],
      "metadata": {
        "id": "n9lPz9lO2d6N",
        "outputId": "f00d8b06-2673-418c-d109-55a5d973eb43",
        "colab": {
          "base_uri": "https://localhost:8080/",
          "height": 384
        }
      },
      "id": "n9lPz9lO2d6N",
      "execution_count": 11,
      "outputs": [
        {
          "output_type": "display_data",
          "data": {
            "text/plain": [
              "<Figure size 1000x500 with 1 Axes>"
            ],
            "image/png": "[encoded data removed]"
          },
          "metadata": {}
        },
        {
          "output_type": "stream",
          "name": "stdout",
          "text": [
            "Probability that gate_40 is better (1-day): 0.036\n"
          ]
        }
      ]
    }
  ],
  "metadata": {
    "kernelspec": {
      "display_name": "Python 3 (ipykernel)",
      "language": "python",
      "name": "python3"
    },
    "language_info": {
      "codemirror_mode": {
        "name": "ipython",
        "version": 3
      },
      "file_extension": ".py",
      "mimetype": "text/x-python",
      "name": "python",
      "nbconvert_exporter": "python",
      "pygments_lexer": "ipython3",
      "version": "3.9.13"
    },
    "colab": {
      "provenance": []
    }
  },
  "nbformat": 4,
  "nbformat_minor": 5
}